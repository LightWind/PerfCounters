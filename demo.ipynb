{
 "cells": [
  {
   "cell_type": "markdown",
   "metadata": {},
   "source": [
    "# PerfCounters Usage\n",
    "\n",
    "\n",
    "This notebook showcases how to use the [PerfCounters package](https://github.com/ebursztein/perfcounters)."
   ]
  },
  {
   "cell_type": "markdown",
   "metadata": {},
   "source": [
    "let's start by importing the PerfCounters class which is all you need:"
   ]
  },
  {
   "cell_type": "code",
   "execution_count": 53,
   "metadata": {},
   "outputs": [],
   "source": [
    "import time\n",
    "import random\n",
    "import numpy as np\n",
    "from perfcounters import PerfCounters\n",
    "from IPython.core.display import HTML"
   ]
  },
  {
   "cell_type": "markdown",
   "metadata": {},
   "source": [
    "## Basic usage"
   ]
  },
  {
   "cell_type": "markdown",
   "metadata": {},
   "source": [
    "### Time measurement usage\n",
    "Short example that uses the timing counters to compare `random()` versus `randint()` to get a value in  {0, 1}."
   ]
  },
  {
   "cell_type": "code",
   "execution_count": 23,
   "metadata": {},
   "outputs": [
    {
     "name": "stdout",
     "output_type": "stream",
     "text": [
      "-=[Timing counters]=-\n",
      "+---------+-----------+\n",
      "| name    |     value |\n",
      "|---------+-----------|\n",
      "| randint | 0.982396  |\n",
      "| random  | 0.0229394 |\n",
      "+---------+-----------+\n",
      "\n",
      "\n"
     ]
    }
   ],
   "source": [
    "counters = PerfCounters()  # init the counter collection.\n",
    "\n",
    "counters.start('random')  # start a timing counter called random.random.\n",
    "for x in range(100000):\n",
    "    int(random.random())\n",
    "counters.stop('random')  # stop the random.random.\n",
    "\n",
    "counters.start('randint')  # start a timing counter called random.random.\n",
    "for x in range(1000000):\n",
    "    random.randint(0,1)\n",
    "counters.stop('randint')  # stop the random.random.\n",
    "\n",
    "counters.report() # report print all counter values in nicely formated tables."
   ]
  },
  {
   "cell_type": "markdown",
   "metadata": {},
   "source": [
    "You can also export the results in various formats including json, text, grepable text and HTML.\n",
    "For example to export in json you can simply use the `to_json()` function as follow: "
   ]
  },
  {
   "cell_type": "code",
   "execution_count": 5,
   "metadata": {},
   "outputs": [
    {
     "data": {
      "text/plain": [
       "'{\"Timing counters\": [[\"exponentiation\", 0.010947942733764648]]}'"
      ]
     },
     "execution_count": 5,
     "metadata": {},
     "output_type": "execute_result"
    }
   ],
   "source": [
    "counters.to_json()"
   ]
  },
  {
   "cell_type": "markdown",
   "metadata": {},
   "source": [
    "### Laps measurement usage\n",
    "\n",
    "Timing counters are used to track how long each iteration of a loop is taking. They\n",
    "work as follow:"
   ]
  },
  {
   "cell_type": "code",
   "execution_count": 33,
   "metadata": {},
   "outputs": [
    {
     "name": "stdout",
     "output_type": "stream",
     "text": [
      "-=[Timing counters]=-\n",
      "+-------------+---------+\n",
      "| name        |   value |\n",
      "|-------------+---------|\n",
      "| random loop | 1.36072 |\n",
      "+-------------+---------+\n",
      "\n",
      "-=[Laps counters]=-\n",
      "\n",
      "-= random loop =-\n",
      "+------------+-------------------+\n",
      "|   lap time |   cumulative time |\n",
      "|------------+-------------------|\n",
      "|   0.640529 |          0.640529 |\n",
      "|   0.520168 |          1.1607   |\n",
      "|   0.200028 |          1.36072  |\n",
      "+------------+-------------------+\n",
      "+---------+----------+\n",
      "| stat    |    value |\n",
      "|---------+----------|\n",
      "| min     | 0.200028 |\n",
      "| average | 0.453575 |\n",
      "| median  | 0.520168 |\n",
      "| max     | 0.640529 |\n",
      "| stddev  | 0.185896 |\n",
      "+---------+----------+\n",
      "\n"
     ]
    }
   ],
   "source": [
    "counters = PerfCounters()  # declaring our counters\n",
    "\n",
    "counters.start('random loop') # create counter\n",
    "for _ in range(3):\n",
    "    time.sleep(round(random.random(), 2))\n",
    "    counters.lap('random loop') # record lap time\n",
    "counters.stop('random loop')\n",
    "\n",
    "counters.report()  # we don't need to stop the counter. Report do it"
   ]
  },
  {
   "cell_type": "markdown",
   "metadata": {},
   "source": [
    "As visible in the output above when outputing/returning laps counters `PerfCounters` do report the value of each lap, the cumulative time and statistics about the laps."
   ]
  },
  {
   "cell_type": "markdown",
   "metadata": {},
   "source": [
    "### Value counters usage\n",
    "Value counters used to track values. They are either directly set to\n",
    "a given value with the `set()` method  or incremented with the `increment()` method.\n"
   ]
  },
  {
   "cell_type": "code",
   "execution_count": 36,
   "metadata": {},
   "outputs": [
    {
     "name": "stdout",
     "output_type": "stream",
     "text": [
      "mycounter value: 42\n"
     ]
    }
   ],
   "source": [
    "counters = PerfCounters()\n",
    "counters.set('mycounter', 39)  # set counter value to 39\n",
    "counters.increment('mycounter', 3)  # increment counter by 3\n",
    "val = counters.get('mycounter') #  get the value of the counter\n",
    "print('mycounter value:', val)"
   ]
  },
  {
   "cell_type": "markdown",
   "metadata": {},
   "source": [
    "## Complete example\n",
    "Here is an end to end example that demonstrate all the basic feature of `PerfCounters` at once."
   ]
  },
  {
   "cell_type": "code",
   "execution_count": 43,
   "metadata": {
    "scrolled": false
   },
   "outputs": [
    {
     "name": "stdout",
     "output_type": "stream",
     "text": [
      "-=[Value counters]=-\n",
      "+----------------+---------+\n",
      "| name           |   value |\n",
      "|----------------+---------|\n",
      "| num_iterations |       6 |\n",
      "| total_value    |       2 |\n",
      "+----------------+---------+\n",
      "\n",
      "-=[Timing counters]=-\n",
      "+--------+----------+\n",
      "| name   |    value |\n",
      "|--------+----------|\n",
      "| loop   | 0.167572 |\n",
      "+--------+----------+\n",
      "\n",
      "-=[Laps counters]=-\n",
      "\n",
      "-= loop =-\n",
      "+------------+-------------------+\n",
      "|   lap time |   cumulative time |\n",
      "|------------+-------------------|\n",
      "| 0.00798035 |        0.00798035 |\n",
      "| 0.0189776  |        0.026958   |\n",
      "| 0.0468643  |        0.0738223  |\n",
      "| 0.0289271  |        0.102749   |\n",
      "| 0.0339088  |        0.136658   |\n",
      "| 0.0309143  |        0.167572   |\n",
      "+------------+-------------------+\n",
      "+---------+------------+\n",
      "| stat    |      value |\n",
      "|---------+------------|\n",
      "| min     | 0.00798035 |\n",
      "| average | 0.0279287  |\n",
      "| median  | 0.0299207  |\n",
      "| max     | 0.0468643  |\n",
      "| stddev  | 0.0121263  |\n",
      "+---------+------------+\n",
      "\n"
     ]
    }
   ],
   "source": [
    "from perfcounters import PerfCounters\n",
    "from random import randint\n",
    "\n",
    "# init counters\n",
    "counters = PerfCounters()\n",
    "\n",
    "num_iterations = randint(5, 10)\n",
    "\n",
    "# setting a value counter to a given value\n",
    "counters.set('num_iterations', num_iterations)\n",
    "\n",
    "# starting a timing counter\n",
    "counters.start('loop')\n",
    "\n",
    "for i in range(num_iterations):\n",
    "    for _ in range(randint(1000, 50000)):\n",
    "        v = randint(0, 1)\n",
    "\n",
    "    # incrementing a value counter to sum the generated values\n",
    "    counters.increment('total_value', v)\n",
    "\n",
    "    # track lap time\n",
    "    counters.lap('loop')\n",
    "\n",
    "# stopping the timing counter\n",
    "counters.stop('loop')\n",
    "\n",
    "# reporting all counters\n",
    "counters.report()"
   ]
  },
  {
   "cell_type": "markdown",
   "metadata": {},
   "source": [
    "# Using deadline warning\n",
    "Here is how to use `PerfCounters` to emit a log warning if a counter exceed a specific deadline. This is for example useful when using remote service and wanting to track when they take too long."
   ]
  },
  {
   "cell_type": "code",
   "execution_count": 44,
   "metadata": {},
   "outputs": [
    {
     "name": "stderr",
     "output_type": "stream",
     "text": [
      "counter deadline_monitor deadline exceeded. Operation took:                               2.000716209411621 secs. Deadline was: 1 secs\n"
     ]
    }
   ],
   "source": [
    "counters = PerfCounters()\n",
    "# counter will emit a log warning if time between start and stop exceed 1sec.\n",
    "counters.start('deadline_monitor', warning_deadline=1)\n",
    "time.sleep(2)\n",
    "counters.stop('deadline_monitor')"
   ]
  },
  {
   "cell_type": "markdown",
   "metadata": {},
   "source": [
    "## Sorting\n",
    "`report()` and any export function such as to_html() and to_text() support counters sorting as follow"
   ]
  },
  {
   "cell_type": "code",
   "execution_count": 47,
   "metadata": {},
   "outputs": [
    {
     "name": "stdout",
     "output_type": "stream",
     "text": [
      "sort by value desc (default)\n",
      "-=[Value counters]=-\n",
      "+--------+---------+\n",
      "| name   |   value |\n",
      "|--------+---------|\n",
      "| a      |      42 |\n",
      "| c      |      41 |\n",
      "| b      |      40 |\n",
      "+--------+---------+\n",
      "\n",
      "\n",
      "sort by value asc\n",
      "-=[Value counters]=-\n",
      "+--------+---------+\n",
      "| name   |   value |\n",
      "|--------+---------|\n",
      "| b      |      40 |\n",
      "| c      |      41 |\n",
      "| a      |      42 |\n",
      "+--------+---------+\n",
      "\n",
      "\n",
      "sort by name asc\n",
      "-=[Value counters]=-\n",
      "+--------+---------+\n",
      "| name   |   value |\n",
      "|--------+---------|\n",
      "| a      |      42 |\n",
      "| b      |      40 |\n",
      "| c      |      41 |\n",
      "+--------+---------+\n",
      "\n",
      "\n",
      "sort by name desc\n",
      "-=[Value counters]=-\n",
      "+--------+---------+\n",
      "| name   |   value |\n",
      "|--------+---------|\n",
      "| c      |      41 |\n",
      "| b      |      40 |\n",
      "| a      |      42 |\n",
      "+--------+---------+\n",
      "\n",
      "\n"
     ]
    }
   ],
   "source": [
    "counters = PerfCounters()\n",
    "counters.set('a', 42)\n",
    "counters.set('b', 40)\n",
    "counters.set('c', 41)\n",
    "\n",
    "print(\"sort by value desc (default)\")\n",
    "counters.report() # or counters.report(sort_by='value', reverse=True)\n",
    "\n",
    "print(\"sort by value asc\")\n",
    "counters.report(reverse=False)  # or counters.report(sort_by='value', reverse=False)\n",
    "\n",
    "print(\"sort by name asc\")\n",
    "counters.report(sort_by='name', reverse=False)\n",
    "\n",
    "print(\"sort by name desc\")\n",
    "counters.report(sort_by='name')"
   ]
  },
  {
   "cell_type": "markdown",
   "metadata": {},
   "source": [
    "## Export functions\n",
    "\n",
    "`PerfCounters` support various export formats:"
   ]
  },
  {
   "cell_type": "code",
   "execution_count": 62,
   "metadata": {},
   "outputs": [],
   "source": [
    "counters = PerfCounters()\n",
    "counters.start('loop')\n",
    "for i in range(1000):\n",
    "    v = randint(0, 1000000)\n",
    "    counters.increment('total_value', v)\n",
    "counters.stop('loop')"
   ]
  },
  {
   "cell_type": "markdown",
   "metadata": {},
   "source": [
    "### JSON\n"
   ]
  },
  {
   "cell_type": "code",
   "execution_count": 61,
   "metadata": {},
   "outputs": [
    {
     "name": "stdout",
     "output_type": "stream",
     "text": [
      "{\"Timing counters\": [[\"loop\", 0.0019681453704833984]], \"Value counters\": [[\"total_value\", 500036794]]}\n"
     ]
    }
   ],
   "source": [
    "print(counters.to_json())"
   ]
  },
  {
   "cell_type": "markdown",
   "metadata": {},
   "source": [
    "### HTML"
   ]
  },
  {
   "cell_type": "code",
   "execution_count": 60,
   "metadata": {},
   "outputs": [
    {
     "data": {
      "text/html": [
       "<h1>Value counters</h1>\n",
       "<table>\n",
       "<thead>\n",
       "<tr><th>name       </th><th style=\"text-align: right;\">    value</th></tr>\n",
       "</thead>\n",
       "<tbody>\n",
       "<tr><td>total_value</td><td style=\"text-align: right;\">500036794</td></tr>\n",
       "</tbody>\n",
       "</table><h1>Timing counters</h1>\n",
       "<table>\n",
       "<thead>\n",
       "<tr><th>name  </th><th style=\"text-align: right;\">     value</th></tr>\n",
       "</thead>\n",
       "<tbody>\n",
       "<tr><td>loop  </td><td style=\"text-align: right;\">0.00196815</td></tr>\n",
       "</tbody>\n",
       "</table>"
      ],
      "text/plain": [
       "<IPython.core.display.HTML object>"
      ]
     },
     "execution_count": 60,
     "metadata": {},
     "output_type": "execute_result"
    }
   ],
   "source": [
    "HTML(counters.to_html())"
   ]
  },
  {
   "cell_type": "markdown",
   "metadata": {},
   "source": [
    "### text\n"
   ]
  },
  {
   "cell_type": "code",
   "execution_count": 63,
   "metadata": {},
   "outputs": [
    {
     "name": "stdout",
     "output_type": "stream",
     "text": [
      "-=[Value counters]=-\n",
      "+-------------+-----------+\n",
      "| name        |     value |\n",
      "|-------------+-----------|\n",
      "| total_value | 515219551 |\n",
      "+-------------+-----------+\n",
      "\n",
      "-=[Timing counters]=-\n",
      "+--------+------------+\n",
      "| name   |      value |\n",
      "|--------+------------|\n",
      "| loop   | 0.00199723 |\n",
      "+--------+------------+\n",
      "\n",
      "\n"
     ]
    }
   ],
   "source": [
    "print(counters.to_text())"
   ]
  },
  {
   "cell_type": "markdown",
   "metadata": {},
   "source": [
    "### Grepable text"
   ]
  },
  {
   "cell_type": "code",
   "execution_count": 65,
   "metadata": {},
   "outputs": [
    {
     "name": "stdout",
     "output_type": "stream",
     "text": [
      "[PerfCounters]Value counters:total_value:515219551\n",
      "[PerfCounters]Timing counters:loop:0.001997232437133789\n",
      "\n"
     ]
    }
   ],
   "source": [
    "print(counters.to_grepable_text())"
   ]
  },
  {
   "cell_type": "markdown",
   "metadata": {},
   "source": [
    "## Counters merging\n",
    "\n",
    "`PerfCounters` support scope and merging so you can combine counters from various part of your code. \n",
    "Here is a basic example that showcase how to use this feature"
   ]
  },
  {
   "cell_type": "code",
   "execution_count": 67,
   "metadata": {},
   "outputs": [
    {
     "name": "stdout",
     "output_type": "stream",
     "text": [
      "-=[Value counters]=-\n",
      "+-------------+---------+\n",
      "| name        |   value |\n",
      "|-------------+---------|\n",
      "| test        |      42 |\n",
      "| others_test |      42 |\n",
      "+-------------+---------+\n",
      "\n",
      "\n"
     ]
    }
   ],
   "source": [
    "counters = PerfCounters()\n",
    "counters.set('test', 42)\n",
    "\n",
    "# set counter prefix via constructor to avoid name collision\n",
    "other_counters = PerfCounters('others')\n",
    "other_counters.set('test', 42)\n",
    "\n",
    "# merging\n",
    "counters.merge(other_counters)\n",
    "counters.report()\n"
   ]
  }
 ],
 "metadata": {
  "kernelspec": {
   "display_name": "Python 3",
   "language": "python",
   "name": "python3"
  },
  "language_info": {
   "codemirror_mode": {
    "name": "ipython",
    "version": 3
   },
   "file_extension": ".py",
   "mimetype": "text/x-python",
   "name": "python",
   "nbconvert_exporter": "python",
   "pygments_lexer": "ipython3",
   "version": "3.6.7rc1"
  }
 },
 "nbformat": 4,
 "nbformat_minor": 2
}
